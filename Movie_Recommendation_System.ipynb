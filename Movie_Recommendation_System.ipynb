{
  "cells": [
    {
      "cell_type": "markdown",
      "metadata": {
        "id": "view-in-github",
        "colab_type": "text"
      },
      "source": [
        "<a href=\"https://colab.research.google.com/github/mohdomer/CodSoft/blob/main/Movie_Recommendation_System.ipynb\" target=\"_parent\"><img src=\"https://colab.research.google.com/assets/colab-badge.svg\" alt=\"Open In Colab\"/></a>"
      ]
    },
    {
      "cell_type": "markdown",
      "metadata": {
        "id": "zDtfqbx7MZb1"
      },
      "source": [
        "> ## **Movie Recommendation System Project** ##"
      ]
    },
    {
      "cell_type": "markdown",
      "metadata": {
        "id": "bVsi6MzQMZb8"
      },
      "source": [
        "First, we will import the necessary libraries and the dataset and create a Lemmatizer object."
      ]
    },
    {
      "cell_type": "code",
      "execution_count": 5,
      "metadata": {
        "colab": {
          "base_uri": "https://localhost:8080/"
        },
        "id": "eWMPXy0iMZb9",
        "outputId": "3eb6336d-d74b-406c-bc72-2b4c5482a318"
      },
      "outputs": [
        {
          "output_type": "stream",
          "name": "stdout",
          "text": [
            "Collecting contractions\n",
            "  Downloading contractions-0.1.73-py2.py3-none-any.whl (8.7 kB)\n",
            "Collecting textsearch>=0.0.21 (from contractions)\n",
            "  Downloading textsearch-0.0.24-py2.py3-none-any.whl (7.6 kB)\n",
            "Collecting anyascii (from textsearch>=0.0.21->contractions)\n",
            "  Downloading anyascii-0.3.2-py3-none-any.whl (289 kB)\n",
            "\u001b[2K     \u001b[90m━━━━━━━━━━━━━━━━━━━━━━━━━━━━━━━━━━━━━━━━\u001b[0m \u001b[32m289.9/289.9 kB\u001b[0m \u001b[31m5.4 MB/s\u001b[0m eta \u001b[36m0:00:00\u001b[0m\n",
            "\u001b[?25hCollecting pyahocorasick (from textsearch>=0.0.21->contractions)\n",
            "  Downloading pyahocorasick-2.0.0-cp310-cp310-manylinux_2_5_x86_64.manylinux1_x86_64.manylinux_2_12_x86_64.manylinux2010_x86_64.whl (110 kB)\n",
            "\u001b[2K     \u001b[90m━━━━━━━━━━━━━━━━━━━━━━━━━━━━━━━━━━━━━━━━\u001b[0m \u001b[32m110.8/110.8 kB\u001b[0m \u001b[31m6.8 MB/s\u001b[0m eta \u001b[36m0:00:00\u001b[0m\n",
            "\u001b[?25hInstalling collected packages: pyahocorasick, anyascii, textsearch, contractions\n",
            "Successfully installed anyascii-0.3.2 contractions-0.1.73 pyahocorasick-2.0.0 textsearch-0.0.24\n"
          ]
        }
      ],
      "source": [
        "!pip install contractions\n",
        "import pandas as pd\n",
        "import re\n",
        "from nltk.stem import WordNetLemmatizer\n",
        "from contractions import fix\n",
        "from sklearn.feature_extraction.text import TfidfVectorizer\n",
        "from sklearn.metrics.pairwise import cosine_similarity"
      ]
    },
    {
      "cell_type": "code",
      "execution_count": 4,
      "metadata": {
        "id": "WkPlCMvYMZcB"
      },
      "outputs": [],
      "source": [
        "lemmatizer = WordNetLemmatizer()"
      ]
    },
    {
      "cell_type": "code",
      "execution_count": 13,
      "metadata": {
        "colab": {
          "base_uri": "https://localhost:8080/"
        },
        "id": "LqyWmBnrMZcC",
        "outputId": "1dd3a046-6df3-4ce6-abf3-afbaf2ad1ae7"
      },
      "outputs": [
        {
          "output_type": "stream",
          "name": "stderr",
          "text": [
            "\n"
          ]
        }
      ],
      "source": [
        "# Read CSV files\n",
        "df1 = pd.read_csv('movie_data_train.csv')\n",
        "df2 = pd.read_csv('movie_data_solution.csv',quoting=3, error_bad_lines=False)"
      ]
    },
    {
      "cell_type": "code",
      "execution_count": 14,
      "metadata": {
        "id": "TdR_P7c7MZcE"
      },
      "outputs": [],
      "source": [
        "# Concatenate DataFrames\n",
        "df = pd.concat([df1, df2], axis=0)"
      ]
    },
    {
      "cell_type": "code",
      "source": [
        "import nltk\n",
        "nltk.download('wordnet')\n"
      ],
      "metadata": {
        "colab": {
          "base_uri": "https://localhost:8080/"
        },
        "id": "4qMNOWr5O-IH",
        "outputId": "6b56ae3a-5978-4ec2-f25c-28952139042d"
      },
      "execution_count": 18,
      "outputs": [
        {
          "output_type": "stream",
          "name": "stderr",
          "text": [
            "[nltk_data] Downloading package wordnet to /root/nltk_data...\n"
          ]
        },
        {
          "output_type": "execute_result",
          "data": {
            "text/plain": [
              "True"
            ]
          },
          "metadata": {},
          "execution_count": 18
        }
      ]
    },
    {
      "cell_type": "code",
      "execution_count": 20,
      "metadata": {
        "id": "9Do1pbdxMZcH"
      },
      "outputs": [],
      "source": [
        "def preprocess(text):\n",
        "    if pd.isnull(text) or not isinstance(text, str):\n",
        "        return \"\"\n",
        "    text = text.lower()\n",
        "    text = re.sub(r'[^a-z\\s]', '', text)  # remove non-alpha\n",
        "    text = fix(text)  # expand contractions using the 'fix' function from contractions\n",
        "    lemmatizer = WordNetLemmatizer()\n",
        "    text = ' '.join([lemmatizer.lemmatize(word) for word in text.split()])\n",
        "    return text"
      ]
    },
    {
      "cell_type": "code",
      "execution_count": 21,
      "metadata": {
        "id": "Opg1T-18MZcJ"
      },
      "outputs": [],
      "source": [
        "# Preprocess plots: lower case, remove punctuation, lemmatize\n",
        "df['Plot'] = df['Plot Summary'].apply(preprocess)"
      ]
    },
    {
      "cell_type": "code",
      "execution_count": 22,
      "metadata": {
        "id": "rECNKyqmMZcL"
      },
      "outputs": [],
      "source": [
        "# Create a TF-IDF vectorizer\n",
        "tfidf_vectorizer = TfidfVectorizer(max_features=10_000)\n",
        "tfidf_matrix = tfidf_vectorizer.fit_transform(df['Plot'])"
      ]
    },
    {
      "cell_type": "code",
      "execution_count": 23,
      "metadata": {
        "id": "zyLXDcXaMZcL"
      },
      "outputs": [],
      "source": [
        "def recommend_and_print(plot):\n",
        "    processed_plot = preprocess(plot)\n",
        "    plot_vec = tfidf_vectorizer.transform([processed_plot])\n",
        "\n",
        "    # Calculate cosine similarities\n",
        "    similarities = cosine_similarity(tfidf_matrix, plot_vec)\n",
        "\n",
        "    # Get top indices\n",
        "    indices = similarities.argsort(axis=0)[-10:][::-1]\n",
        "\n",
        "    # Get movie titles using the indices\n",
        "    recommended_movies = []\n",
        "    for idx in indices:\n",
        "        original_idx = df.index[idx]  # Get the original index\n",
        "        movie_title = df.loc[original_idx, 'Title']\n",
        "        recommended_movies.append(movie_title)\n",
        "\n",
        "    # Print recommended movies\n",
        "    for idx, movie_title in enumerate(recommended_movies, start=1):\n",
        "        print(f\"{idx}. {movie_title}\")\n",
        "\n",
        "    return recommended_movies\n"
      ]
    },
    {
      "cell_type": "code",
      "execution_count": 28,
      "metadata": {
        "colab": {
          "base_uri": "https://localhost:8080/"
        },
        "id": "xIr05nWvMZcM",
        "outputId": "d539e345-f9c4-450c-9186-6e0a1bed9c92"
      },
      "outputs": [
        {
          "name": "stdout",
          "output_type": "stream",
          "text": [
            "Enter a plot of a type of movie you would like to see: detective smart\n"
          ]
        }
      ],
      "source": [
        "# Example plot\n",
        "plot = input(\"Enter a plot of a type of movie you would like to see: \")"
      ]
    },
    {
      "cell_type": "code",
      "execution_count": 29,
      "metadata": {
        "colab": {
          "base_uri": "https://localhost:8080/"
        },
        "id": "oXkoCkVVMZcN",
        "outputId": "e29f7a86-f5b1-4ea7-ee1e-defc11010b4f"
      },
      "outputs": [
        {
          "output_type": "stream",
          "name": "stdout",
          "text": [
            "1. (18618, Las altas presiones (2014), drama, \"The film follows what happens inside a lonely and heartbroken man who visits his hometown on the pretext of working there. He looks isolated and indifferent to everything. At the beginning,  he walks alone,  and he films an extremely desolate landscape,  and what the audience sees on the screen also lacks vigor. Such a feeling of ruin reflects the man's inner self. Consequently)     love and friendship invigorate the film. What...\n",
            "Name: Title, dtype: object\n",
            "2. 46438    In Plain View (2008)\n",
            "Name: Title, dtype: object\n",
            "3. 22811    Lieutenant Rex (2013)\n",
            "Name: Title, dtype: object\n",
            "4. 10101    Dirk Dagger and the Fallen Idol (2008)\n",
            "Name: Title, dtype: object\n",
            "5. 34852    Joe Wilkinson (1999)\n",
            "Name: Title, dtype: object\n",
            "6. 45777    The Curious Case of Countess Martina (2012)\n",
            "Name: Title, dtype: object\n",
            "7. 46759    Stranger by Night (1994)\n",
            "Name: Title, dtype: object\n",
            "8. 8396    Perdition City (????)\n",
            "Name: Title, dtype: object\n",
            "9. 43256    \"The Great Detectives\" (1999)\n",
            "Name: Title, dtype: object\n",
            "10. 42842    The Smart Studios Story (2016)\n",
            "Name: Title, dtype: object\n"
          ]
        },
        {
          "output_type": "execute_result",
          "data": {
            "text/plain": [
              "[(18618, Las altas presiones (2014), drama, \"The film follows what happens inside a lonely and heartbroken man who visits his hometown on the pretext of working there. He looks isolated and indifferent to everything. At the beginning,  he walks alone,  and he films an extremely desolate landscape,  and what the audience sees on the screen also lacks vigor. Such a feeling of ruin reflects the man's inner self. Consequently)     love and friendship invigorate the film. What...\n",
              " Name: Title, dtype: object,\n",
              " 46438    In Plain View (2008)\n",
              " Name: Title, dtype: object,\n",
              " 22811    Lieutenant Rex (2013)\n",
              " Name: Title, dtype: object,\n",
              " 10101    Dirk Dagger and the Fallen Idol (2008)\n",
              " Name: Title, dtype: object,\n",
              " 34852    Joe Wilkinson (1999)\n",
              " Name: Title, dtype: object,\n",
              " 45777    The Curious Case of Countess Martina (2012)\n",
              " Name: Title, dtype: object,\n",
              " 46759    Stranger by Night (1994)\n",
              " Name: Title, dtype: object,\n",
              " 8396    Perdition City (????)\n",
              " Name: Title, dtype: object,\n",
              " 43256    \"The Great Detectives\" (1999)\n",
              " Name: Title, dtype: object,\n",
              " 42842    The Smart Studios Story (2016)\n",
              " Name: Title, dtype: object]"
            ]
          },
          "metadata": {},
          "execution_count": 29
        }
      ],
      "source": [
        "recommend_and_print(plot)"
      ]
    }
  ],
  "metadata": {
    "kernelspec": {
      "display_name": "Python 3",
      "language": "python",
      "name": "python3"
    },
    "language_info": {
      "codemirror_mode": {
        "name": "ipython",
        "version": 3
      },
      "file_extension": ".py",
      "mimetype": "text/x-python",
      "name": "python",
      "nbconvert_exporter": "python",
      "pygments_lexer": "ipython3",
      "version": "3.11.5"
    },
    "orig_nbformat": 4,
    "colab": {
      "provenance": [],
      "include_colab_link": true
    }
  },
  "nbformat": 4,
  "nbformat_minor": 0
}
